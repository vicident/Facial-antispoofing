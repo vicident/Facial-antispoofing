{
 "cells": [
  {
   "cell_type": "code",
   "execution_count": 1,
   "metadata": {
    "collapsed": false
   },
   "outputs": [
    {
     "name": "stdout",
     "output_type": "stream",
     "text": [
      "env: JOBLIB_TEMP_FOLDER=/tmp\n"
     ]
    }
   ],
   "source": [
    "%env JOBLIB_TEMP_FOLDER=/tmp\n",
    "import operator\n",
    "from multiprocessing import Pool, TimeoutError\n",
    "import glob\n",
    "import os\n",
    "import cv2\n",
    "\n",
    "import numpy as np\n",
    "from tqdm import tqdm_notebook\n",
    "from catboost import CatBoostClassifier\n",
    "from skimage.feature import local_binary_pattern as LBP"
   ]
  },
  {
   "cell_type": "code",
   "execution_count": 2,
   "metadata": {
    "collapsed": true
   },
   "outputs": [],
   "source": [
    "TRAIN_PATH = '/train/'\n",
    "VAL_PATH = '/validation/'\n",
    "TEST_PATH = '/test/'\n",
    "RESULT_PATH = '/output/'\n",
    "POOL_THREADS = 32\n",
    "NEW_WIDTH = 480\n",
    "NEW_HEIGHT = 480"
   ]
  },
  {
   "cell_type": "code",
   "execution_count": 3,
   "metadata": {
    "collapsed": false
   },
   "outputs": [],
   "source": [
    "def extract_feature_vector(image, p=18, r=2):\n",
    "    channels = list(cv2.split(cv2.cvtColor(image, cv2.COLOR_BGR2HSV))) + \\\n",
    "                list(cv2.split(cv2.cvtColor(image, cv2.COLOR_BGR2YCrCb)))\n",
    "    lbp_features = [LBP(ch, p, r, method=\"uniform\") for ch in channels]\n",
    "    hist_features = [np.histogram(lf,  bins=p+1, normed=True)[0] for lf in lbp_features]\n",
    "    return np.hstack([hf.ravel() for hf in hist_features])\n",
    "\n",
    "\n",
    "def process_single(file):\n",
    "    image = cv2.imread(file)\n",
    "    h, w, c = image.shape\n",
    "    dw, dh = w // 4, h // 4\n",
    "    return extract_feature_vector(cv2.resize(image[dh:h-dh, dw:w-dw, :], (NEW_WIDTH, NEW_HEIGHT)))\n",
    "\n",
    "\n",
    "def extract_features(filelist):\n",
    "    def __impl(files):\n",
    "        pool = Pool(POOL_THREADS) \n",
    "        feats = list(tqdm_notebook(pool.imap(process_single, files), total=len(files)))        \n",
    "        return feats\n",
    "    feature_list = __impl(filelist) \n",
    "    return [x for x in feature_list if x is not None]"
   ]
  },
  {
   "cell_type": "markdown",
   "metadata": {},
   "source": [
    "# Load train data"
   ]
  },
  {
   "cell_type": "code",
   "execution_count": 4,
   "metadata": {
    "collapsed": false
   },
   "outputs": [
    {
     "name": "stdout",
     "output_type": "stream",
     "text": [
      "\n",
      "\n"
     ]
    }
   ],
   "source": [
    "train_real_filelist = glob.glob(os.path.join(TRAIN_PATH, 'real/*.png'))\n",
    "train_spoof_filelist = glob.glob(os.path.join(TRAIN_PATH, 'spoof/*.png'))\n",
    "\n",
    "train_real_features = extract_features(train_real_filelist)\n",
    "train_spoof_features = extract_features(train_spoof_filelist)\n",
    "\n",
    "train_data = train_real_features + train_spoof_features\n",
    "train_labels = [0] * len(train_real_features) + [1] * len(train_spoof_features)"
   ]
  },
  {
   "cell_type": "markdown",
   "metadata": {},
   "source": [
    "# Load val data"
   ]
  },
  {
   "cell_type": "code",
   "execution_count": 5,
   "metadata": {
    "collapsed": false,
    "scrolled": false
   },
   "outputs": [
    {
     "name": "stdout",
     "output_type": "stream",
     "text": [
      "\n",
      "\n"
     ]
    }
   ],
   "source": [
    "val_real_filelist = glob.glob(os.path.join(VAL_PATH, 'real/*.png'))\n",
    "val_spoof_filelist = glob.glob(os.path.join(VAL_PATH, 'spoof/*.png'))\n",
    "\n",
    "val_real_features = extract_features(val_real_filelist)\n",
    "val_spoof_features = extract_features(val_spoof_filelist)\n",
    "\n",
    "val_data = val_real_features + val_spoof_features\n",
    "val_labels = [0] * len(val_real_features) + [1] * len(val_spoof_features)"
   ]
  },
  {
   "cell_type": "markdown",
   "metadata": {},
   "source": [
    "# Train classifier"
   ]
  },
  {
   "cell_type": "code",
   "execution_count": 6,
   "metadata": {
    "collapsed": false,
    "scrolled": true
   },
   "outputs": [
    {
     "name": "stdout",
     "output_type": "stream",
     "text": [
      "0:\tlearn: 0.6606858\ttest: 0.6756668\tbest: 0.6756668 (0)\ttotal: 75.5ms\tremaining: 5m 1s\n",
      "500:\tlearn: 0.7536266\ttest: 0.7285629\tbest: 0.7333755 (474)\ttotal: 10.3s\tremaining: 1m 12s\n",
      "1000:\tlearn: 0.7783129\ttest: 0.7562294\tbest: 0.7591522 (928)\ttotal: 20.3s\tremaining: 1m\n",
      "1500:\tlearn: 0.8032263\ttest: 0.7699418\tbest: 0.7699418 (1492)\ttotal: 30.3s\tremaining: 50.5s\n",
      "2000:\tlearn: 0.8269687\ttest: 0.7771936\tbest: 0.7771936 (1948)\ttotal: 40s\tremaining: 39.9s\n",
      "2500:\tlearn: 0.8472841\ttest: 0.7854782\tbest: 0.7854782 (2423)\ttotal: 49.5s\tremaining: 29.7s\n",
      "3000:\tlearn: 0.8690379\ttest: 0.7916313\tbest: 0.7916313 (2974)\ttotal: 59.5s\tremaining: 19.8s\n",
      "3500:\tlearn: 0.8869003\ttest: 0.7996742\tbest: 0.7996742 (3465)\ttotal: 1m 9s\tremaining: 9.86s\n",
      "3999:\tlearn: 0.9047627\ttest: 0.8055855\tbest: 0.8055855 (3991)\ttotal: 1m 18s\tremaining: 0us\n",
      "\n",
      "bestTest = 0.8055854855\n",
      "bestIteration = 3991\n",
      "\n",
      "Shrink model to first 3992 iterations.\n"
     ]
    },
    {
     "data": {
      "text/plain": [
       "<catboost.core.CatBoostClassifier at 0x7f8dc62e5390>"
      ]
     },
     "execution_count": 6,
     "metadata": {},
     "output_type": "execute_result"
    }
   ],
   "source": [
    "clf = CatBoostClassifier(learning_rate=0.001, \n",
    "                         iterations=4000, \n",
    "                         eval_metric='BalancedAccuracy',\n",
    "                         custom_metric='BalancedAccuracy')\n",
    "\n",
    "clf.fit(train_data,\n",
    "        train_labels, \n",
    "        verbose=500,\n",
    "        eval_set=(np.array(val_data), val_labels),\n",
    "        use_best_model=True)"
   ]
  },
  {
   "cell_type": "markdown",
   "metadata": {},
   "source": [
    "# Check scores"
   ]
  },
  {
   "cell_type": "code",
   "execution_count": 7,
   "metadata": {
    "collapsed": false
   },
   "outputs": [
    {
     "name": "stdout",
     "output_type": "stream",
     "text": [
      "\n"
     ]
    }
   ],
   "source": [
    "filelist = ['real.png', 'spoof.png']\n",
    "features = extract_features(filelist)\n",
    "predictions = clf.predict(np.array(features))\n",
    "probs = clf.predict_proba(np.array(features))\n",
    "scores = np.array(probs)[:, 1] - np.array(probs)[:, 0]"
   ]
  },
  {
   "cell_type": "code",
   "execution_count": 8,
   "metadata": {
    "collapsed": false
   },
   "outputs": [
    {
     "name": "stdout",
     "output_type": "stream",
     "text": [
      "real.png: -0.697713507129686\n",
      "spoof.png: 0.7841449892948535\n"
     ]
    }
   ],
   "source": [
    "for f, s in zip(filelist, scores.tolist()):\n",
    "    print(\"{}: {}\".format(f, s))"
   ]
  },
  {
   "cell_type": "markdown",
   "metadata": {
    "collapsed": true
   },
   "source": [
    "# Make test"
   ]
  },
  {
   "cell_type": "code",
   "execution_count": 9,
   "metadata": {
    "collapsed": false
   },
   "outputs": [
    {
     "name": "stdout",
     "output_type": "stream",
     "text": [
      "\n"
     ]
    }
   ],
   "source": [
    "test_filelist = glob.glob(os.path.join(TEST_PATH, '*.png'))\n",
    "test_features = extract_features(test_filelist)"
   ]
  },
  {
   "cell_type": "code",
   "execution_count": 10,
   "metadata": {
    "collapsed": true
   },
   "outputs": [],
   "source": [
    "probs = clf.predict_proba(np.array(test_features))\n",
    "scores = np.array(probs)[:, 1] - np.array(probs)[:, 0]\n",
    "with open(os.path.join(RESULT_PATH, 'results_baseline.txt'), 'w') as f:\n",
    "    for score, filepath in zip(scores.tolist(), test_filelist):\n",
    "        f.write(\"{}, {}\\n\".format(filepath.split('/')[-1], score))"
   ]
  },
  {
   "cell_type": "code",
   "execution_count": null,
   "metadata": {
    "collapsed": true
   },
   "outputs": [],
   "source": []
  }
 ],
 "metadata": {
  "anaconda-cloud": {},
  "kernelspec": {
   "display_name": "Python [default]",
   "language": "python",
   "name": "python3"
  },
  "language_info": {
   "codemirror_mode": {
    "name": "ipython",
    "version": 3
   },
   "file_extension": ".py",
   "mimetype": "text/x-python",
   "name": "python",
   "nbconvert_exporter": "python",
   "pygments_lexer": "ipython3",
   "version": "3.5.2"
  },
  "widgets": {
   "state": {
    "009051e1ef38418790b66e27c3f5a8a4": {
     "views": [
      {
       "cell_index": 13
      }
     ]
    },
    "26ac6e571be0454dbbceb4e970359a52": {
     "views": [
      {
       "cell_index": 4
      }
     ]
    },
    "5522096d60c44450a97d02363c926db3": {
     "views": [
      {
       "cell_index": 6
      }
     ]
    },
    "9e14e21d853946079caa0cb671b6d16f": {
     "views": [
      {
       "cell_index": 10
      }
     ]
    },
    "ca06e8cd774c4dea95ae4dae61692737": {
     "views": [
      {
       "cell_index": 6
      }
     ]
    },
    "fa5bba6d84ea480cb7b80be08df746d1": {
     "views": [
      {
       "cell_index": 4
      }
     ]
    }
   },
   "version": "1.2.0"
  }
 },
 "nbformat": 4,
 "nbformat_minor": 2
}
